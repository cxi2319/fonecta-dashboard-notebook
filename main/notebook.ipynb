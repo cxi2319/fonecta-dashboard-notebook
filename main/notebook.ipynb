{
 "cells": [
  {
   "cell_type": "code",
   "execution_count": 1,
   "metadata": {},
   "outputs": [],
   "source": [
    "import requests\n",
    "import pandas as pd\n",
    "import time\n",
    "\n",
    "API_KEY = \"b2d6e0a848c3acb2df576557304c20ff\"\n",
    "V = \"20230223\"\n",
    "PARENT_ACCOUNT_ID = \"8181751292082973749\"\n",
    "\n",
    "account_list_url = f\"https://api.yext.com/v2/accounts?api_key={API_KEY}&v={V}&limit=1000&offset=1\"\n",
    "RESOURCE_APPLY_URL = f\"https://api.yext.com/v2/accounts/me/resourcesapplyrequests?api_key={API_KEY}&v={V}\"\n",
    "\n",
    "# response = requests.get(account_list_url)\n",
    "\n",
    "# account_json = response.json()\n",
    "\n",
    "# json_response = account_json[\"response\"][\"accounts\"]\n",
    "\n",
    "\n"
   ]
  },
  {
   "cell_type": "code",
   "execution_count": 2,
   "metadata": {},
   "outputs": [],
   "source": [
    "account_df = pd.read_csv('/Users/cxi/Documents/fonecta_active_customers.csv')\n",
    "\n",
    "# print(len(account_df))\n",
    "# print(account_id_list)\n"
   ]
  },
  {
   "cell_type": "code",
   "execution_count": 3,
   "metadata": {},
   "outputs": [
    {
     "name": "stdout",
     "output_type": "stream",
     "text": [
      "                        Asiakkaan nimi  Kumppaniasiakkaan_tunnus  \\\n",
      "0            Vallilan Takomo Oy Punkka                    183302   \n",
      "1      Parkettiliike J & T Mustonen Oy                    140888   \n",
      "2                          Laatuvaneri                    151286   \n",
      "3                           Kaukora Oy                    145244   \n",
      "4                       Teho-Posako Oy                    179575   \n",
      "...                                ...                       ...   \n",
      "12458                          Sähi Oy                   3355074   \n",
      "12459                         HaRak Oy                   3837021   \n",
      "12460                    Ylö-Asbest Oy                    464116   \n",
      "12461                    Kone-Glans Oy                    148036   \n",
      "12462              Konehuolto Koski Oy                   3487996   \n",
      "\n",
      "       Yext-asiakastunnus                                   Sijaintipalvelut  \\\n",
      "0                  661083  Partner: Knowledge Engine Professional (KE), P...   \n",
      "1                  663087  Partner: Knowledge Engine Professional (KE), P...   \n",
      "2                  678333  Partner: Knowledge Engine Professional (KE), P...   \n",
      "3                  679596  Partner: Knowledge Engine Professional (KE), P...   \n",
      "4                  680892  Partner: Knowledge Engine Professional (KE), P...   \n",
      "...                   ...                                                ...   \n",
      "12458             3919553  Fonecta Only Listings, Partner: Knowledge Engi...   \n",
      "12459             3919581        Partner: Knowledge Engine Professional (KE)   \n",
      "12460             3920739        Partner: Knowledge Engine Professional (KE)   \n",
      "12461             3920805        Partner: Knowledge Engine Professional (KE)   \n",
      "12462             3920810        Partner: Knowledge Engine Professional (KE)   \n",
      "\n",
      "       Sijainnit  Aktiiviset sijaintipalvelut Kirjautumispäivä  \\\n",
      "0              2                            2     1/27/15 2:57   \n",
      "1              1                            1     1/29/15 3:42   \n",
      "2              1                            1      2/3/15 5:12   \n",
      "3              1                            1      2/5/15 8:49   \n",
      "4              1                            1      2/9/15 8:00   \n",
      "...          ...                          ...              ...   \n",
      "12458          2                            2      3/3/23 8:05   \n",
      "12459          1                            1      3/3/23 8:47   \n",
      "12460          1                            1      3/6/23 7:09   \n",
      "12461          1                            1      3/6/23 8:16   \n",
      "12462          1                            1      3/6/23 8:21   \n",
      "\n",
      "       Mahdolliset kaksoiskappaleet  \n",
      "0                                20  \n",
      "1                                 2  \n",
      "2                                28  \n",
      "3                                37  \n",
      "4                                20  \n",
      "...                             ...  \n",
      "12458                             0  \n",
      "12459                             0  \n",
      "12460                             1  \n",
      "12461                             5  \n",
      "12462                             2  \n",
      "\n",
      "[12463 rows x 8 columns]\n"
     ]
    }
   ],
   "source": [
    "df_knowledge_engine_pro = account_df[account_df[\"Sijaintipalvelut\"].str.contains(\"Partner: Knowledge Engine Professional\")]\n",
    "\n",
    "print(df_knowledge_engine_pro)"
   ]
  },
  {
   "cell_type": "code",
   "execution_count": 4,
   "metadata": {},
   "outputs": [
    {
     "name": "stdout",
     "output_type": "stream",
     "text": [
      "57\n"
     ]
    }
   ],
   "source": [
    "# account_id_list = df_knowledge_engine_pro.Kumppaniasiakkaan_tunnus.values.tolist()\n",
    "# account_id_list_head = account_id_list[70:100]\n",
    "# print(account_id_list_head)\n",
    "\n",
    "account_id_list_head = [125490, 152102, 108508, 140025, 3490818, 134570, 167573, 172112, 2517827, 3756166, 3105990, 2768597, 152761, 102988, 2204246, 176469, 142886, 1610095, 161944, 381821, 3064587, 543131, 148954, 201931, 183849, 192784, 153431, 133791, 1933602, 214380, 202229, 171713, 215215, 168016, 463700, 3550825, 503733, 970803, 138984, 152482, 2761588, 129833, 2770525, 525763, 176177, 162516, 3601003, 177629, 834525, 175717, 456288, 2042807, 187988, 188194, 509816, 153595, 150613]\n",
    "\n",
    "failed_list = []\n",
    "print(len(account_id_list_head))\n"
   ]
  },
  {
   "cell_type": "code",
   "execution_count": 5,
   "metadata": {},
   "outputs": [
    {
     "name": "stdout",
     "output_type": "stream",
     "text": [
      "submit request:  {'meta': {'uuid': '0186cd66-6f71-ca20-7508-e8548a3132c2', 'errors': []}, 'response': {'id': 3911, 'targetAccountId': '125490', 'dateSubmitted': '2023-03-10T21:21:27', 'source': {'type': 'GITHUB', 'url': 'https://github.com/alexyang528/fonecta-ya-dashboard'}, 'status': 'SUBMITTED'}}\n",
      "{'meta': {'uuid': '0186cd66-9713-e04f-8144-f14b2a573f99', 'errors': []}, 'response': {'id': 3911, 'targetAccountId': '125490', 'dateSubmitted': '2023-03-10T21:21:28', 'dateCompleted': '2023-03-10T21:21:29', 'source': {'type': 'GITHUB', 'url': 'https://github.com/alexyang528/fonecta-ya-dashboard'}, 'status': 'COMPLETE'}}\n",
      "submit request:  {'meta': {'uuid': '0186cd66-976b-7203-108f-dcc324f56205', 'errors': []}, 'response': {'id': 3912, 'targetAccountId': '152102', 'dateSubmitted': '2023-03-10T21:21:38', 'source': {'type': 'GITHUB', 'url': 'https://github.com/alexyang528/fonecta-ya-dashboard'}, 'status': 'SUBMITTED'}}\n",
      "{'meta': {'uuid': '0186cd66-bee8-52d9-2831-40a8d68a4b42', 'errors': []}, 'response': {'id': 3912, 'targetAccountId': '152102', 'dateSubmitted': '2023-03-10T21:21:38', 'dateCompleted': '2023-03-10T21:21:39', 'source': {'type': 'GITHUB', 'url': 'https://github.com/alexyang528/fonecta-ya-dashboard'}, 'status': 'COMPLETE'}}\n",
      "submit request:  {'meta': {'uuid': '0186cd66-bf34-1e6a-ea6a-b2acc8134710', 'errors': []}, 'response': {'id': 3913, 'targetAccountId': '108508', 'dateSubmitted': '2023-03-10T21:21:48', 'source': {'type': 'GITHUB', 'url': 'https://github.com/alexyang528/fonecta-ya-dashboard'}, 'status': 'SUBMITTED'}}\n",
      "{'meta': {'uuid': '0186cd66-e6bd-c027-2a26-381bbf8fedcb', 'errors': []}, 'response': {'id': 3913, 'targetAccountId': '108508', 'dateSubmitted': '2023-03-10T21:21:48', 'dateCompleted': '2023-03-10T21:21:49', 'source': {'type': 'GITHUB', 'url': 'https://github.com/alexyang528/fonecta-ya-dashboard'}, 'status': 'COMPLETE'}}\n",
      "submit request:  {'meta': {'uuid': '0186cd66-e769-73d9-516a-61217f198b23', 'errors': []}, 'response': {'id': 3914, 'targetAccountId': '140025', 'dateSubmitted': '2023-03-10T21:21:58', 'source': {'type': 'GITHUB', 'url': 'https://github.com/alexyang528/fonecta-ya-dashboard'}, 'status': 'SUBMITTED'}}\n",
      "{'meta': {'uuid': '0186cd67-0eec-3332-7e78-b9a6e579c7c7', 'errors': []}, 'response': {'id': 3914, 'targetAccountId': '140025', 'dateSubmitted': '2023-03-10T21:21:59', 'dateCompleted': '2023-03-10T21:21:59', 'source': {'type': 'GITHUB', 'url': 'https://github.com/alexyang528/fonecta-ya-dashboard'}, 'status': 'COMPLETE'}}\n",
      "submit request:  {'meta': {'uuid': '0186cd67-0f29-1e30-fbe7-772a34eb96da', 'errors': []}, 'response': {'id': 3915, 'targetAccountId': '3490818', 'dateSubmitted': '2023-03-10T21:22:08', 'source': {'type': 'GITHUB', 'url': 'https://github.com/alexyang528/fonecta-ya-dashboard'}, 'status': 'SUBMITTED'}}\n",
      "{'meta': {'uuid': '0186cd67-36aa-031b-5feb-812adfec9d2c', 'errors': []}, 'response': {'id': 3915, 'targetAccountId': '3490818', 'dateSubmitted': '2023-03-10T21:22:09', 'dateCompleted': '2023-03-10T21:22:10', 'source': {'type': 'GITHUB', 'url': 'https://github.com/alexyang528/fonecta-ya-dashboard'}, 'status': 'COMPLETE'}}\n",
      "submit request:  {'meta': {'uuid': '0186cd67-36f5-e419-7d07-35bd959f90b8', 'errors': []}, 'response': {'id': 3916, 'targetAccountId': '134570', 'dateSubmitted': '2023-03-10T21:22:19', 'source': {'type': 'GITHUB', 'url': 'https://github.com/alexyang528/fonecta-ya-dashboard'}, 'status': 'SUBMITTED'}}\n",
      "{'meta': {'uuid': '0186cd67-5e6b-52e4-f7c6-4cd5309320a5', 'errors': []}, 'response': {'id': 3916, 'targetAccountId': '134570', 'dateSubmitted': '2023-03-10T21:22:19', 'dateCompleted': '2023-03-10T21:22:20', 'source': {'type': 'GITHUB', 'url': 'https://github.com/alexyang528/fonecta-ya-dashboard'}, 'status': 'COMPLETE'}}\n",
      "submit request:  {'meta': {'uuid': '0186cd67-5eae-d044-4bd4-8a376fcb13e7', 'errors': []}, 'response': {'id': 3917, 'targetAccountId': '167573', 'dateSubmitted': '2023-03-10T21:22:29', 'source': {'type': 'GITHUB', 'url': 'https://github.com/alexyang528/fonecta-ya-dashboard'}, 'status': 'SUBMITTED'}}\n",
      "{'meta': {'uuid': '0186cd67-8643-2b80-1c99-45163d033a51', 'errors': []}, 'response': {'id': 3917, 'targetAccountId': '167573', 'dateSubmitted': '2023-03-10T21:22:29', 'dateCompleted': '2023-03-10T21:22:30', 'source': {'type': 'GITHUB', 'url': 'https://github.com/alexyang528/fonecta-ya-dashboard'}, 'status': 'COMPLETE'}}\n",
      "submit request:  {'meta': {'uuid': '0186cd67-86b0-54b5-d9ef-fb50738fbd07', 'errors': []}, 'response': {'id': 3918, 'targetAccountId': '172112', 'dateSubmitted': '2023-03-10T21:22:39', 'source': {'type': 'GITHUB', 'url': 'https://github.com/alexyang528/fonecta-ya-dashboard'}, 'status': 'SUBMITTED'}}\n",
      "{'meta': {'uuid': '0186cd67-ae29-1f97-fd1c-8b1e281f7322', 'errors': []}, 'response': {'id': 3918, 'targetAccountId': '172112', 'dateSubmitted': '2023-03-10T21:22:39', 'dateCompleted': '2023-03-10T21:22:40', 'source': {'type': 'GITHUB', 'url': 'https://github.com/alexyang528/fonecta-ya-dashboard'}, 'status': 'COMPLETE'}}\n",
      "submit request:  {'meta': {'uuid': '0186cd67-ae70-0afc-5cac-80396c10e547', 'errors': []}, 'response': {'id': 3919, 'targetAccountId': '2517827', 'dateSubmitted': '2023-03-10T21:22:49', 'source': {'type': 'GITHUB', 'url': 'https://github.com/alexyang528/fonecta-ya-dashboard'}, 'status': 'SUBMITTED'}}\n",
      "{'meta': {'uuid': '0186cd67-d601-75f9-bbe6-792da4542a90', 'errors': []}, 'response': {'id': 3919, 'targetAccountId': '2517827', 'dateSubmitted': '2023-03-10T21:22:50', 'dateCompleted': '2023-03-10T21:22:51', 'source': {'type': 'GITHUB', 'url': 'https://github.com/alexyang528/fonecta-ya-dashboard'}, 'status': 'COMPLETE'}}\n",
      "submit request:  {'meta': {'uuid': '0186cd67-d644-82bf-d73f-2e5df580cc87', 'errors': []}, 'response': {'id': 3920, 'targetAccountId': '3756166', 'dateSubmitted': '2023-03-10T21:22:59', 'source': {'type': 'GITHUB', 'url': 'https://github.com/alexyang528/fonecta-ya-dashboard'}, 'status': 'SUBMITTED'}}\n",
      "{'meta': {'uuid': '0186cd67-fdd3-4968-a895-728b4c72aa45', 'errors': []}, 'response': {'id': 3920, 'targetAccountId': '3756166', 'dateSubmitted': '2023-03-10T21:23:00', 'dateCompleted': '2023-03-10T21:23:01', 'source': {'type': 'GITHUB', 'url': 'https://github.com/alexyang528/fonecta-ya-dashboard'}, 'status': 'COMPLETE'}}\n",
      "submit request:  {'meta': {'uuid': '0186cd67-fe1d-215a-4029-005abfbf283d', 'errors': []}, 'response': {'id': 3921, 'targetAccountId': '3105990', 'dateSubmitted': '2023-03-10T21:23:10', 'source': {'type': 'GITHUB', 'url': 'https://github.com/alexyang528/fonecta-ya-dashboard'}, 'status': 'SUBMITTED'}}\n",
      "{'meta': {'uuid': '0186cd68-25aa-66f8-372b-095f79ef5c33', 'errors': []}, 'response': {'id': 3921, 'targetAccountId': '3105990', 'dateSubmitted': '2023-03-10T21:23:10', 'dateCompleted': '2023-03-10T21:23:11', 'source': {'type': 'GITHUB', 'url': 'https://github.com/alexyang528/fonecta-ya-dashboard'}, 'status': 'COMPLETE'}}\n",
      "submit request:  {'meta': {'uuid': '0186cd68-2605-903c-1560-3addb58df761', 'errors': []}, 'response': {'id': 3922, 'targetAccountId': '2768597', 'dateSubmitted': '2023-03-10T21:23:20', 'source': {'type': 'GITHUB', 'url': 'https://github.com/alexyang528/fonecta-ya-dashboard'}, 'status': 'SUBMITTED'}}\n",
      "{'meta': {'uuid': '0186cd68-4d8b-6489-4ebc-92697221d971', 'errors': []}, 'response': {'id': 3922, 'targetAccountId': '2768597', 'dateSubmitted': '2023-03-10T21:23:20', 'dateCompleted': '2023-03-10T21:23:21', 'source': {'type': 'GITHUB', 'url': 'https://github.com/alexyang528/fonecta-ya-dashboard'}, 'status': 'COMPLETE'}}\n",
      "submit request:  {'meta': {'uuid': '0186cd68-4de7-a936-1a01-784b6b09b982', 'errors': []}, 'response': {'id': 3923, 'targetAccountId': '152761', 'dateSubmitted': '2023-03-10T21:23:30', 'source': {'type': 'GITHUB', 'url': 'https://github.com/alexyang528/fonecta-ya-dashboard'}, 'status': 'SUBMITTED'}}\n",
      "{'meta': {'uuid': '0186cd68-7577-46fd-3187-cdf34c1de457', 'errors': []}, 'response': {'id': 3923, 'targetAccountId': '152761', 'dateSubmitted': '2023-03-10T21:23:30', 'dateCompleted': '2023-03-10T21:23:31', 'source': {'type': 'GITHUB', 'url': 'https://github.com/alexyang528/fonecta-ya-dashboard'}, 'status': 'COMPLETE'}}\n",
      "submit request:  {'meta': {'uuid': '0186cd68-75ca-c209-72ac-0d7b90096d09', 'errors': []}, 'response': {'id': 3924, 'targetAccountId': '102988', 'dateSubmitted': '2023-03-10T21:23:40', 'source': {'type': 'GITHUB', 'url': 'https://github.com/alexyang528/fonecta-ya-dashboard'}, 'status': 'SUBMITTED'}}\n",
      "{'meta': {'uuid': '0186cd68-9d4f-0cee-8a3b-0c6359a7571d', 'errors': []}, 'response': {'id': 3924, 'targetAccountId': '102988', 'dateSubmitted': '2023-03-10T21:23:41', 'dateCompleted': '2023-03-10T21:23:42', 'source': {'type': 'GITHUB', 'url': 'https://github.com/alexyang528/fonecta-ya-dashboard'}, 'status': 'COMPLETE'}}\n",
      "submit request:  {'meta': {'uuid': '0186cd68-9da7-a0ea-272b-5cbce284b8cf', 'errors': []}, 'response': {'id': 3925, 'targetAccountId': '2204246', 'dateSubmitted': '2023-03-10T21:23:50', 'source': {'type': 'GITHUB', 'url': 'https://github.com/alexyang528/fonecta-ya-dashboard'}, 'status': 'SUBMITTED'}}\n",
      "{'meta': {'uuid': '0186cd68-c54d-75e6-d25b-bb8509a42301', 'errors': []}, 'response': {'id': 3925, 'targetAccountId': '2204246', 'dateSubmitted': '2023-03-10T21:23:51', 'dateCompleted': '2023-03-10T21:23:52', 'source': {'type': 'GITHUB', 'url': 'https://github.com/alexyang528/fonecta-ya-dashboard'}, 'status': 'COMPLETE'}}\n",
      "submit request:  {'meta': {'uuid': '0186cd68-c58f-8325-d69e-67534936d8bd', 'errors': []}, 'response': {'id': 3926, 'targetAccountId': '176469', 'dateSubmitted': '2023-03-10T21:24:01', 'source': {'type': 'GITHUB', 'url': 'https://github.com/alexyang528/fonecta-ya-dashboard'}, 'status': 'SUBMITTED'}}\n",
      "{'meta': {'uuid': '0186cd68-ed41-bae2-b5a3-01be32f0628b', 'errors': []}, 'response': {'id': 3926, 'targetAccountId': '176469', 'dateSubmitted': '2023-03-10T21:24:01', 'dateCompleted': '2023-03-10T21:24:02', 'source': {'type': 'GITHUB', 'url': 'https://github.com/alexyang528/fonecta-ya-dashboard'}, 'status': 'COMPLETE'}}\n",
      "submit request:  {'meta': {'uuid': '0186cd68-ed8b-cf16-cfc2-c1361f39d3cf', 'errors': []}, 'response': {'id': 3927, 'targetAccountId': '142886', 'dateSubmitted': '2023-03-10T21:24:11', 'source': {'type': 'GITHUB', 'url': 'https://github.com/alexyang528/fonecta-ya-dashboard'}, 'status': 'SUBMITTED'}}\n",
      "{'meta': {'uuid': '0186cd69-1511-1894-c09e-dc6f363cebb4', 'errors': []}, 'response': {'id': 3927, 'targetAccountId': '142886', 'dateSubmitted': '2023-03-10T21:24:11', 'dateCompleted': '2023-03-10T21:24:12', 'source': {'type': 'GITHUB', 'url': 'https://github.com/alexyang528/fonecta-ya-dashboard'}, 'status': 'COMPLETE'}}\n",
      "submit request:  {'meta': {'uuid': '0186cd69-1573-9855-ffb9-c1f001de447b', 'errors': []}, 'response': {'id': 3928, 'targetAccountId': '1610095', 'dateSubmitted': '2023-03-10T21:24:21', 'source': {'type': 'GITHUB', 'url': 'https://github.com/alexyang528/fonecta-ya-dashboard'}, 'status': 'SUBMITTED'}}\n",
      "{'meta': {'uuid': '0186cd69-3cef-a034-9648-268945af1af6', 'errors': []}, 'response': {'id': 3928, 'targetAccountId': '1610095', 'dateSubmitted': '2023-03-10T21:24:22', 'dateCompleted': '2023-03-10T21:24:22', 'source': {'type': 'GITHUB', 'url': 'https://github.com/alexyang528/fonecta-ya-dashboard'}, 'status': 'COMPLETE'}}\n",
      "submit request:  {'meta': {'uuid': '0186cd69-3d38-4ff7-7d41-e1e04561b2a4', 'errors': []}, 'response': {'id': 3929, 'targetAccountId': '161944', 'dateSubmitted': '2023-03-10T21:24:32', 'source': {'type': 'GITHUB', 'url': 'https://github.com/alexyang528/fonecta-ya-dashboard'}, 'status': 'SUBMITTED'}}\n",
      "{'meta': {'uuid': '0186cd69-66b9-761c-6f26-6ff9b0411978', 'errors': []}, 'response': {'id': 3929, 'targetAccountId': '161944', 'dateSubmitted': '2023-03-10T21:24:32', 'dateCompleted': '2023-03-10T21:24:33', 'source': {'type': 'GITHUB', 'url': 'https://github.com/alexyang528/fonecta-ya-dashboard'}, 'status': 'COMPLETE'}}\n",
      "submit request:  {'meta': {'uuid': '0186cd69-6707-02b9-97bc-49d471e57574', 'errors': []}, 'response': {'id': 3930, 'targetAccountId': '381821', 'dateSubmitted': '2023-03-10T21:24:42', 'source': {'type': 'GITHUB', 'url': 'https://github.com/alexyang528/fonecta-ya-dashboard'}, 'status': 'SUBMITTED'}}\n",
      "{'meta': {'uuid': '0186cd69-8e9e-11cb-e1d3-08eec55a2c71', 'errors': []}, 'response': {'id': 3930, 'targetAccountId': '381821', 'dateSubmitted': '2023-03-10T21:24:42', 'dateCompleted': '2023-03-10T21:24:44', 'source': {'type': 'GITHUB', 'url': 'https://github.com/alexyang528/fonecta-ya-dashboard'}, 'status': 'COMPLETE'}}\n",
      "submit request:  {'meta': {'uuid': '0186cd69-8ef0-bbd7-3b9e-049b05e6773b', 'errors': []}, 'response': {'id': 3931, 'targetAccountId': '3064587', 'dateSubmitted': '2023-03-10T21:24:52', 'source': {'type': 'GITHUB', 'url': 'https://github.com/alexyang528/fonecta-ya-dashboard'}, 'status': 'SUBMITTED'}}\n",
      "{'meta': {'uuid': '0186cd69-b67b-c3f1-26bb-a28f49fb39c1', 'errors': []}, 'response': {'id': 3931, 'targetAccountId': '3064587', 'dateSubmitted': '2023-03-10T21:24:53', 'dateCompleted': '2023-03-10T21:24:53', 'source': {'type': 'GITHUB', 'url': 'https://github.com/alexyang528/fonecta-ya-dashboard'}, 'status': 'COMPLETE'}}\n",
      "submit request:  {'meta': {'uuid': '0186cd69-b6be-c553-efe2-5ee14be0c83f', 'errors': []}, 'response': {'id': 3932, 'targetAccountId': '543131', 'dateSubmitted': '2023-03-10T21:25:02', 'source': {'type': 'GITHUB', 'url': 'https://github.com/alexyang528/fonecta-ya-dashboard'}, 'status': 'SUBMITTED'}}\n",
      "{'meta': {'uuid': '0186cd69-de35-38ab-3b30-fe346ccd4deb', 'errors': []}, 'response': {'id': 3932, 'targetAccountId': '543131', 'dateSubmitted': '2023-03-10T21:25:03', 'dateCompleted': '2023-03-10T21:25:06', 'source': {'type': 'GITHUB', 'url': 'https://github.com/alexyang528/fonecta-ya-dashboard'}, 'status': 'COMPLETE'}}\n",
      "submit request:  {'meta': {'uuid': '0186cd69-de78-0959-955a-fa41b1e32696', 'errors': []}, 'response': {'id': 3933, 'targetAccountId': '148954', 'dateSubmitted': '2023-03-10T21:25:12', 'source': {'type': 'GITHUB', 'url': 'https://github.com/alexyang528/fonecta-ya-dashboard'}, 'status': 'SUBMITTED'}}\n",
      "{'meta': {'uuid': '0186cd6a-0610-0909-894a-24a62ee03a94', 'errors': []}, 'response': {'id': 3933, 'targetAccountId': '148954', 'dateSubmitted': '2023-03-10T21:25:13', 'dateCompleted': '2023-03-10T21:25:14', 'source': {'type': 'GITHUB', 'url': 'https://github.com/alexyang528/fonecta-ya-dashboard'}, 'status': 'COMPLETE'}}\n",
      "submit request:  {'meta': {'uuid': '0186cd6a-0657-9660-e2d3-7daef76abb42', 'errors': []}, 'response': {'id': 3934, 'targetAccountId': '201931', 'dateSubmitted': '2023-03-10T21:25:23', 'source': {'type': 'GITHUB', 'url': 'https://github.com/alexyang528/fonecta-ya-dashboard'}, 'status': 'SUBMITTED'}}\n",
      "{'meta': {'uuid': '0186cd6a-2dfd-58a9-d9cf-025be223f682', 'errors': []}, 'response': {'id': 3934, 'targetAccountId': '201931', 'dateSubmitted': '2023-03-10T21:25:23', 'dateCompleted': '2023-03-10T21:25:24', 'source': {'type': 'GITHUB', 'url': 'https://github.com/alexyang528/fonecta-ya-dashboard'}, 'status': 'COMPLETE'}}\n",
      "submit request:  {'meta': {'uuid': '0186cd6a-2e4d-4b97-8119-a44266101541', 'errors': []}, 'response': {'id': 3935, 'targetAccountId': '183849', 'dateSubmitted': '2023-03-10T21:25:33', 'source': {'type': 'GITHUB', 'url': 'https://github.com/alexyang528/fonecta-ya-dashboard'}, 'status': 'SUBMITTED'}}\n",
      "{'meta': {'uuid': '0186cd6a-55bb-f1b2-b889-8eb3ff07d433', 'errors': []}, 'response': {'id': 3935, 'targetAccountId': '183849', 'dateSubmitted': '2023-03-10T21:25:33', 'dateCompleted': '2023-03-10T21:25:34', 'source': {'type': 'GITHUB', 'url': 'https://github.com/alexyang528/fonecta-ya-dashboard'}, 'status': 'COMPLETE'}}\n",
      "submit request:  {'meta': {'uuid': '0186cd6a-5601-d4c2-923e-19d0d8f987f8', 'errors': []}, 'response': {'id': 3936, 'targetAccountId': '192784', 'dateSubmitted': '2023-03-10T21:25:43', 'source': {'type': 'GITHUB', 'url': 'https://github.com/alexyang528/fonecta-ya-dashboard'}, 'status': 'SUBMITTED'}}\n",
      "{'meta': {'uuid': '0186cd6a-7d99-80a8-d27d-6ffdbe23afe8', 'errors': []}, 'response': {'id': 3936, 'targetAccountId': '192784', 'dateSubmitted': '2023-03-10T21:25:44', 'dateCompleted': '2023-03-10T21:25:44', 'source': {'type': 'GITHUB', 'url': 'https://github.com/alexyang528/fonecta-ya-dashboard'}, 'status': 'COMPLETE'}}\n",
      "submit request:  {'meta': {'uuid': '0186cd6a-7dea-4fdd-bae1-134b3db9295a', 'errors': []}, 'response': {'id': 3937, 'targetAccountId': '153431', 'dateSubmitted': '2023-03-10T21:25:53', 'source': {'type': 'GITHUB', 'url': 'https://github.com/alexyang528/fonecta-ya-dashboard'}, 'status': 'SUBMITTED'}}\n",
      "{'meta': {'uuid': '0186cd6a-a564-b3e2-8d2f-60980f506dc5', 'errors': []}, 'response': {'id': 3937, 'targetAccountId': '153431', 'dateSubmitted': '2023-03-10T21:25:54', 'dateCompleted': '2023-03-10T21:25:55', 'source': {'type': 'GITHUB', 'url': 'https://github.com/alexyang528/fonecta-ya-dashboard'}, 'status': 'COMPLETE'}}\n",
      "submit request:  {'meta': {'uuid': '0186cd6a-a5b9-b170-02bd-a2f7a8aa217b', 'errors': []}, 'response': {'id': 3938, 'targetAccountId': '133791', 'dateSubmitted': '2023-03-10T21:26:03', 'source': {'type': 'GITHUB', 'url': 'https://github.com/alexyang528/fonecta-ya-dashboard'}, 'status': 'SUBMITTED'}}\n",
      "{'meta': {'uuid': '0186cd77-edeb-a8db-42f4-704d41051b05', 'errors': []}, 'response': {'id': 3938, 'targetAccountId': '133791', 'dateSubmitted': '2023-03-10T21:26:04', 'dateCompleted': '2023-03-10T21:26:05', 'source': {'type': 'GITHUB', 'url': 'https://github.com/alexyang528/fonecta-ya-dashboard'}, 'status': 'COMPLETE'}}\n",
      "submit request:  {'meta': {'uuid': '0186cd77-ee44-fd68-9765-74584e8bb31e', 'errors': []}, 'response': {'id': 3939, 'targetAccountId': '1933602', 'dateSubmitted': '2023-03-10T21:40:34', 'source': {'type': 'GITHUB', 'url': 'https://github.com/alexyang528/fonecta-ya-dashboard'}, 'status': 'SUBMITTED'}}\n",
      "{'meta': {'uuid': '0186cd78-5782-83ac-4860-69b38e2d793c', 'errors': []}, 'response': {'id': 3939, 'targetAccountId': '1933602', 'dateSubmitted': '2023-03-10T21:40:35', 'dateCompleted': '2023-03-10T21:40:36', 'source': {'type': 'GITHUB', 'url': 'https://github.com/alexyang528/fonecta-ya-dashboard'}, 'status': 'COMPLETE'}}\n",
      "submit request:  {'meta': {'uuid': '0186cd78-5826-279c-170b-14b859c09a88', 'errors': []}, 'response': {'id': 3940, 'targetAccountId': '214380', 'dateSubmitted': '2023-03-10T21:41:01', 'source': {'type': 'GITHUB', 'url': 'https://github.com/alexyang528/fonecta-ya-dashboard'}, 'status': 'SUBMITTED'}}\n",
      "{'meta': {'uuid': '0186cd78-7fca-3821-81aa-2cfe13f4fb84', 'errors': []}, 'response': {'id': 3940, 'targetAccountId': '214380', 'dateSubmitted': '2023-03-10T21:41:02', 'dateCompleted': '2023-03-10T21:41:03', 'source': {'type': 'GITHUB', 'url': 'https://github.com/alexyang528/fonecta-ya-dashboard'}, 'status': 'COMPLETE'}}\n",
      "submit request:  {'meta': {'uuid': '0186cd78-8040-8afa-91a8-e691397a37dc', 'errors': []}, 'response': {'id': 3941, 'targetAccountId': '202229', 'dateSubmitted': '2023-03-10T21:41:11', 'source': {'type': 'GITHUB', 'url': 'https://github.com/alexyang528/fonecta-ya-dashboard'}, 'status': 'SUBMITTED'}}\n",
      "{'meta': {'uuid': '0186cd78-b192-7651-5555-8fa111162f7f', 'errors': []}, 'response': {'id': 3941, 'targetAccountId': '202229', 'dateSubmitted': '2023-03-10T21:41:12', 'dateCompleted': '2023-03-10T21:41:13', 'source': {'type': 'GITHUB', 'url': 'https://github.com/alexyang528/fonecta-ya-dashboard'}, 'status': 'COMPLETE'}}\n",
      "submit request:  {'meta': {'uuid': '0186cd78-b1e1-7190-b45b-15dde4b9505b', 'errors': []}, 'response': {'id': 3942, 'targetAccountId': '171713', 'dateSubmitted': '2023-03-10T21:41:24', 'source': {'type': 'GITHUB', 'url': 'https://github.com/alexyang528/fonecta-ya-dashboard'}, 'status': 'SUBMITTED'}}\n",
      "{'meta': {'uuid': '0186cd78-da1e-9891-1dd1-3b0bd9f06241', 'errors': []}, 'response': {'id': 3942, 'targetAccountId': '171713', 'dateSubmitted': '2023-03-10T21:41:25', 'dateCompleted': '2023-03-10T21:41:25', 'source': {'type': 'GITHUB', 'url': 'https://github.com/alexyang528/fonecta-ya-dashboard'}, 'status': 'COMPLETE'}}\n",
      "submit request:  {'meta': {'uuid': '0186cd78-da66-c07e-6fb7-6f3cc7a0b6b3', 'errors': []}, 'response': {'id': 3943, 'targetAccountId': '215215', 'dateSubmitted': '2023-03-10T21:41:34', 'source': {'type': 'GITHUB', 'url': 'https://github.com/alexyang528/fonecta-ya-dashboard'}, 'status': 'SUBMITTED'}}\n",
      "{'meta': {'uuid': '0186cd79-198b-b015-bef9-dabd15676d0a', 'errors': []}, 'response': {'id': 3943, 'targetAccountId': '215215', 'dateSubmitted': '2023-03-10T21:41:35', 'dateCompleted': '2023-03-10T21:41:36', 'source': {'type': 'GITHUB', 'url': 'https://github.com/alexyang528/fonecta-ya-dashboard'}, 'status': 'COMPLETE'}}\n",
      "submit request:  {'meta': {'uuid': '0186cd79-19d4-a106-514c-69c9cdd07414', 'errors': []}, 'response': {'id': 3944, 'targetAccountId': '168016', 'dateSubmitted': '2023-03-10T21:41:51', 'source': {'type': 'GITHUB', 'url': 'https://github.com/alexyang528/fonecta-ya-dashboard'}, 'status': 'SUBMITTED'}}\n",
      "{'meta': {'uuid': '0186cd79-6a5d-7339-7f4a-2bd0c6eb3e78', 'errors': []}, 'response': {'id': 3944, 'targetAccountId': '168016', 'dateSubmitted': '2023-03-10T21:41:51', 'dateCompleted': '2023-03-10T21:41:52', 'source': {'type': 'GITHUB', 'url': 'https://github.com/alexyang528/fonecta-ya-dashboard'}, 'status': 'COMPLETE'}}\n",
      "submit request:  {'meta': {'uuid': '0186cd79-6a94-4930-e848-a800bb584f66', 'errors': []}, 'response': {'id': 3945, 'targetAccountId': '463700', 'dateSubmitted': '2023-03-10T21:42:11', 'source': {'type': 'GITHUB', 'url': 'https://github.com/alexyang528/fonecta-ya-dashboard'}, 'status': 'SUBMITTED'}}\n",
      "{'meta': {'uuid': '0186cd79-922f-8964-0cf5-da039a3a6175', 'errors': []}, 'response': {'id': 3945, 'targetAccountId': '463700', 'dateSubmitted': '2023-03-10T21:42:12', 'dateCompleted': '2023-03-10T21:42:13', 'source': {'type': 'GITHUB', 'url': 'https://github.com/alexyang528/fonecta-ya-dashboard'}, 'status': 'COMPLETE'}}\n",
      "submit request:  {'meta': {'uuid': '0186cd79-92b1-7b27-9fa5-5c73017aba94', 'errors': []}, 'response': {'id': 3946, 'targetAccountId': '3550825', 'dateSubmitted': '2023-03-10T21:42:22', 'source': {'type': 'GITHUB', 'url': 'https://github.com/alexyang528/fonecta-ya-dashboard'}, 'status': 'SUBMITTED'}}\n",
      "{'meta': {'uuid': '0186cd79-ba36-8b44-58cb-c509a01b47c1', 'errors': []}, 'response': {'id': 3946, 'targetAccountId': '3550825', 'dateSubmitted': '2023-03-10T21:42:22', 'dateCompleted': '2023-03-10T21:42:23', 'source': {'type': 'GITHUB', 'url': 'https://github.com/alexyang528/fonecta-ya-dashboard'}, 'status': 'COMPLETE'}}\n",
      "submit request:  {'meta': {'uuid': '0186cd79-ba7a-c7b9-d0ac-48b5a5ed82e3', 'errors': []}, 'response': {'id': 3947, 'targetAccountId': '503733', 'dateSubmitted': '2023-03-10T21:42:32', 'source': {'type': 'GITHUB', 'url': 'https://github.com/alexyang528/fonecta-ya-dashboard'}, 'status': 'SUBMITTED'}}\n",
      "{'meta': {'uuid': '0186cd7a-079d-83d8-1e2d-f6961f8a7098', 'errors': []}, 'response': {'id': 3947, 'targetAccountId': '503733', 'dateSubmitted': '2023-03-10T21:42:32', 'dateCompleted': '2023-03-10T21:42:33', 'source': {'type': 'GITHUB', 'url': 'https://github.com/alexyang528/fonecta-ya-dashboard'}, 'status': 'COMPLETE'}}\n",
      "submit request:  {'meta': {'uuid': '0186cd7a-0809-bb32-ef61-bbe36463dadc', 'errors': []}, 'response': {'id': 3948, 'targetAccountId': '970803', 'dateSubmitted': '2023-03-10T21:42:52', 'source': {'type': 'GITHUB', 'url': 'https://github.com/alexyang528/fonecta-ya-dashboard'}, 'status': 'SUBMITTED'}}\n",
      "{'meta': {'uuid': '0186cd7a-3794-cc33-2076-c7f62568b5cd', 'errors': []}, 'response': {'id': 3948, 'targetAccountId': '970803', 'dateSubmitted': '2023-03-10T21:42:52', 'dateCompleted': '2023-03-10T21:42:53', 'source': {'type': 'GITHUB', 'url': 'https://github.com/alexyang528/fonecta-ya-dashboard'}, 'status': 'COMPLETE'}}\n",
      "submit request:  {'meta': {'uuid': '0186cd7a-37e1-ca2d-19ff-aea193a435e9', 'errors': []}, 'response': {'id': 3949, 'targetAccountId': '138984', 'dateSubmitted': '2023-03-10T21:43:04', 'source': {'type': 'GITHUB', 'url': 'https://github.com/alexyang528/fonecta-ya-dashboard'}, 'status': 'SUBMITTED'}}\n",
      "{'meta': {'uuid': '0186cd7a-65a1-fc00-5058-3e14373b57a3', 'errors': []}, 'response': {'id': 3949, 'targetAccountId': '138984', 'dateSubmitted': '2023-03-10T21:43:04', 'dateCompleted': '2023-03-10T21:43:05', 'source': {'type': 'GITHUB', 'url': 'https://github.com/alexyang528/fonecta-ya-dashboard'}, 'status': 'COMPLETE'}}\n",
      "submit request:  {'meta': {'uuid': '0186cd7a-65e6-f425-3399-610a1ad5273f', 'errors': []}, 'response': {'id': 3950, 'targetAccountId': '152482', 'dateSubmitted': '2023-03-10T21:43:16', 'source': {'type': 'GITHUB', 'url': 'https://github.com/alexyang528/fonecta-ya-dashboard'}, 'status': 'SUBMITTED'}}\n",
      "{'meta': {'uuid': '0186cd7a-e5ba-736c-a492-522fd4ad9cb2', 'errors': []}, 'response': {'id': 3950, 'targetAccountId': '152482', 'dateSubmitted': '2023-03-10T21:43:16', 'dateCompleted': '2023-03-10T21:43:17', 'source': {'type': 'GITHUB', 'url': 'https://github.com/alexyang528/fonecta-ya-dashboard'}, 'status': 'COMPLETE'}}\n",
      "submit request:  {'meta': {'uuid': '0186cd7a-e68f-a441-650c-814f6e01caca', 'errors': []}, 'response': {'id': 3951, 'targetAccountId': '2761588', 'dateSubmitted': '2023-03-10T21:43:49', 'source': {'type': 'GITHUB', 'url': 'https://github.com/alexyang528/fonecta-ya-dashboard'}, 'status': 'SUBMITTED'}}\n",
      "{'meta': {'uuid': '0186cd7b-6d47-9c5b-35b9-7dfea75f9b7c', 'errors': []}, 'response': {'id': 3951, 'targetAccountId': '2761588', 'dateSubmitted': '2023-03-10T21:43:49', 'dateCompleted': '2023-03-10T21:43:50', 'source': {'type': 'GITHUB', 'url': 'https://github.com/alexyang528/fonecta-ya-dashboard'}, 'status': 'COMPLETE'}}\n",
      "submit request:  {'meta': {'uuid': '0186cd7b-6de2-825a-414a-d8b5be1653b8', 'errors': []}, 'response': {'id': 3952, 'targetAccountId': '129833', 'dateSubmitted': '2023-03-10T21:44:23', 'source': {'type': 'GITHUB', 'url': 'https://github.com/alexyang528/fonecta-ya-dashboard'}, 'status': 'SUBMITTED'}}\n",
      "{'meta': {'uuid': '0186cd7b-957b-dcc0-28ed-c727db12f116', 'errors': []}, 'response': {'id': 3952, 'targetAccountId': '129833', 'dateSubmitted': '2023-03-10T21:44:24', 'dateCompleted': '2023-03-10T21:44:26', 'source': {'type': 'GITHUB', 'url': 'https://github.com/alexyang528/fonecta-ya-dashboard'}, 'status': 'COMPLETE'}}\n",
      "submit request:  {'meta': {'uuid': '0186cd7b-9623-c5ea-6eb1-e0dbd59d544f', 'errors': []}, 'response': {'id': 3953, 'targetAccountId': '2770525', 'dateSubmitted': '2023-03-10T21:44:34', 'source': {'type': 'GITHUB', 'url': 'https://github.com/alexyang528/fonecta-ya-dashboard'}, 'status': 'SUBMITTED'}}\n",
      "{'meta': {'uuid': '0186cd7b-be38-b5b8-36e5-cf371c6859fb', 'errors': []}, 'response': {'id': 3953, 'targetAccountId': '2770525', 'dateSubmitted': '2023-03-10T21:44:34', 'dateCompleted': '2023-03-10T21:44:35', 'source': {'type': 'GITHUB', 'url': 'https://github.com/alexyang528/fonecta-ya-dashboard'}, 'status': 'COMPLETE'}}\n",
      "submit request:  {'meta': {'uuid': '0186cd7b-be82-971d-ca4d-1ca0b047d246', 'errors': []}, 'response': {'id': 3954, 'targetAccountId': '525763', 'dateSubmitted': '2023-03-10T21:44:44', 'source': {'type': 'GITHUB', 'url': 'https://github.com/alexyang528/fonecta-ya-dashboard'}, 'status': 'SUBMITTED'}}\n",
      "{'meta': {'uuid': '0186cd7b-e6cf-b67e-8ec0-ad5e22ec64ff', 'errors': []}, 'response': {'id': 3954, 'targetAccountId': '525763', 'dateSubmitted': '2023-03-10T21:44:44', 'dateCompleted': '2023-03-10T21:44:45', 'source': {'type': 'GITHUB', 'url': 'https://github.com/alexyang528/fonecta-ya-dashboard'}, 'status': 'COMPLETE'}}\n",
      "submit request:  {'meta': {'uuid': '0186cd7b-e835-1e43-efee-a044f110a33a', 'errors': []}, 'response': {'id': 3955, 'targetAccountId': '176177', 'dateSubmitted': '2023-03-10T21:44:55', 'source': {'type': 'GITHUB', 'url': 'https://github.com/alexyang528/fonecta-ya-dashboard'}, 'status': 'SUBMITTED'}}\n",
      "{'meta': {'uuid': '0186cd7c-0ffe-b028-f86d-4f546b143921', 'errors': []}, 'response': {'id': 3955, 'targetAccountId': '176177', 'dateSubmitted': '2023-03-10T21:44:55', 'dateCompleted': '2023-03-10T21:44:56', 'source': {'type': 'GITHUB', 'url': 'https://github.com/alexyang528/fonecta-ya-dashboard'}, 'status': 'COMPLETE'}}\n",
      "submit request:  {'meta': {'uuid': '0186cd7c-1040-574c-cb5c-9938ccd55c0f', 'errors': []}, 'response': {'id': 3956, 'targetAccountId': '162516', 'dateSubmitted': '2023-03-10T21:45:05', 'source': {'type': 'GITHUB', 'url': 'https://github.com/alexyang528/fonecta-ya-dashboard'}, 'status': 'SUBMITTED'}}\n",
      "{'meta': {'uuid': '0186cd7c-37d3-d39c-ce78-ac2424145144', 'errors': []}, 'response': {'id': 3956, 'targetAccountId': '162516', 'dateSubmitted': '2023-03-10T21:45:05', 'dateCompleted': '2023-03-10T21:45:06', 'source': {'type': 'GITHUB', 'url': 'https://github.com/alexyang528/fonecta-ya-dashboard'}, 'status': 'COMPLETE'}}\n",
      "submit request:  {'meta': {'uuid': '0186cd7c-382a-9628-917b-74ac63f6a338', 'errors': []}, 'response': {'id': 3957, 'targetAccountId': '3601003', 'dateSubmitted': '2023-03-10T21:45:15', 'source': {'type': 'GITHUB', 'url': 'https://github.com/alexyang528/fonecta-ya-dashboard'}, 'status': 'SUBMITTED'}}\n",
      "{'meta': {'uuid': '0186cd7c-5fc6-09aa-c142-f88866f59489', 'errors': []}, 'response': {'id': 3957, 'targetAccountId': '3601003', 'dateSubmitted': '2023-03-10T21:45:16', 'dateCompleted': '2023-03-10T21:45:16', 'source': {'type': 'GITHUB', 'url': 'https://github.com/alexyang528/fonecta-ya-dashboard'}, 'status': 'COMPLETE'}}\n",
      "submit request:  {'meta': {'uuid': '0186cd7c-604d-3067-b150-05576ae981f2', 'errors': []}, 'response': {'id': 3958, 'targetAccountId': '177629', 'dateSubmitted': '2023-03-10T21:45:25', 'source': {'type': 'GITHUB', 'url': 'https://github.com/alexyang528/fonecta-ya-dashboard'}, 'status': 'SUBMITTED'}}\n",
      "{'meta': {'uuid': '0186cd7c-87d2-57a6-3d11-6e38d2bb96fe', 'errors': []}, 'response': {'id': 3958, 'targetAccountId': '177629', 'dateSubmitted': '2023-03-10T21:45:26', 'dateCompleted': '2023-03-10T21:45:27', 'source': {'type': 'GITHUB', 'url': 'https://github.com/alexyang528/fonecta-ya-dashboard'}, 'status': 'COMPLETE'}}\n",
      "submit request:  {'meta': {'uuid': '0186cd7c-8810-c160-546b-83a62729df1b', 'errors': []}, 'response': {'id': 3959, 'targetAccountId': '834525', 'dateSubmitted': '2023-03-10T21:45:36', 'source': {'type': 'GITHUB', 'url': 'https://github.com/alexyang528/fonecta-ya-dashboard'}, 'status': 'SUBMITTED'}}\n",
      "{'meta': {'uuid': '0186cd7c-afa4-5712-63b4-b5f10f61634d', 'errors': []}, 'response': {'id': 3959, 'targetAccountId': '834525', 'dateSubmitted': '2023-03-10T21:45:36', 'dateCompleted': '2023-03-10T21:45:37', 'source': {'type': 'GITHUB', 'url': 'https://github.com/alexyang528/fonecta-ya-dashboard'}, 'status': 'COMPLETE'}}\n",
      "submit request:  {'meta': {'uuid': '0186cd7c-afe9-7eea-538c-fcdad4d77fcd', 'errors': []}, 'response': {'id': 3960, 'targetAccountId': '175717', 'dateSubmitted': '2023-03-10T21:45:46', 'source': {'type': 'GITHUB', 'url': 'https://github.com/alexyang528/fonecta-ya-dashboard'}, 'status': 'SUBMITTED'}}\n",
      "{'meta': {'uuid': '0186cd7c-d78d-d07f-74ac-1f81213fb278', 'errors': []}, 'response': {'id': 3960, 'targetAccountId': '175717', 'dateSubmitted': '2023-03-10T21:45:46', 'dateCompleted': '2023-03-10T21:45:47', 'source': {'type': 'GITHUB', 'url': 'https://github.com/alexyang528/fonecta-ya-dashboard'}, 'status': 'COMPLETE'}}\n",
      "submit request:  {'meta': {'uuid': '0186cd7c-d7eb-3045-2519-f1e285fff068', 'errors': []}, 'response': {'id': 3961, 'targetAccountId': '456288', 'dateSubmitted': '2023-03-10T21:45:56', 'source': {'type': 'GITHUB', 'url': 'https://github.com/alexyang528/fonecta-ya-dashboard'}, 'status': 'SUBMITTED'}}\n",
      "{'meta': {'uuid': '0186cd7c-ff66-e361-b271-5089420c748f', 'errors': []}, 'response': {'id': 3961, 'targetAccountId': '456288', 'dateSubmitted': '2023-03-10T21:45:56', 'dateCompleted': '2023-03-10T21:45:57', 'source': {'type': 'GITHUB', 'url': 'https://github.com/alexyang528/fonecta-ya-dashboard'}, 'status': 'COMPLETE'}}\n",
      "submit request:  {'meta': {'uuid': '0186cd7c-ffb2-99b5-0535-66554d2cac6f', 'errors': []}, 'response': {'id': 3962, 'targetAccountId': '2042807', 'dateSubmitted': '2023-03-10T21:46:06', 'source': {'type': 'GITHUB', 'url': 'https://github.com/alexyang528/fonecta-ya-dashboard'}, 'status': 'SUBMITTED'}}\n",
      "{'meta': {'uuid': '0186cd7d-2732-488f-3f76-65443e00f449', 'errors': []}, 'response': {'id': 3962, 'targetAccountId': '2042807', 'dateSubmitted': '2023-03-10T21:46:07', 'dateCompleted': '2023-03-10T21:46:08', 'source': {'type': 'GITHUB', 'url': 'https://github.com/alexyang528/fonecta-ya-dashboard'}, 'status': 'COMPLETE'}}\n",
      "submit request:  {'meta': {'uuid': '0186cd7d-277f-9693-e20a-16c5f58cbc54', 'errors': []}, 'response': {'id': 3963, 'targetAccountId': '187988', 'dateSubmitted': '2023-03-10T21:46:16', 'source': {'type': 'GITHUB', 'url': 'https://github.com/alexyang528/fonecta-ya-dashboard'}, 'status': 'SUBMITTED'}}\n",
      "{'meta': {'uuid': '0186cd7d-4eff-025b-b271-5db10a3e6f4a', 'errors': []}, 'response': {'id': 3963, 'targetAccountId': '187988', 'dateSubmitted': '2023-03-10T21:46:17', 'dateCompleted': '2023-03-10T21:46:18', 'source': {'type': 'GITHUB', 'url': 'https://github.com/alexyang528/fonecta-ya-dashboard'}, 'status': 'COMPLETE'}}\n",
      "submit request:  {'meta': {'uuid': '0186cd7d-4f57-d243-b7d9-e9c10bc64047', 'errors': []}, 'response': {'id': 3964, 'targetAccountId': '188194', 'dateSubmitted': '2023-03-10T21:46:27', 'source': {'type': 'GITHUB', 'url': 'https://github.com/alexyang528/fonecta-ya-dashboard'}, 'status': 'SUBMITTED'}}\n",
      "{'meta': {'uuid': '0186cd7d-76dc-7539-69c0-488af2e56a9d', 'errors': []}, 'response': {'id': 3964, 'targetAccountId': '188194', 'dateSubmitted': '2023-03-10T21:46:27', 'dateCompleted': '2023-03-10T21:46:28', 'source': {'type': 'GITHUB', 'url': 'https://github.com/alexyang528/fonecta-ya-dashboard'}, 'status': 'COMPLETE'}}\n",
      "submit request:  {'meta': {'uuid': '0186cd7d-772f-cfeb-3ae2-e3d07239e700', 'errors': []}, 'response': {'id': 3965, 'targetAccountId': '509816', 'dateSubmitted': '2023-03-10T21:46:37', 'source': {'type': 'GITHUB', 'url': 'https://github.com/alexyang528/fonecta-ya-dashboard'}, 'status': 'SUBMITTED'}}\n",
      "{'meta': {'uuid': '0186cd7d-9e9e-2bc0-d404-312cf181873b', 'errors': []}, 'response': {'id': 3965, 'targetAccountId': '509816', 'dateSubmitted': '2023-03-10T21:46:37', 'dateCompleted': '2023-03-10T21:46:38', 'source': {'type': 'GITHUB', 'url': 'https://github.com/alexyang528/fonecta-ya-dashboard'}, 'status': 'COMPLETE'}}\n",
      "submit request:  {'meta': {'uuid': '0186cd7d-9ee8-b88a-03f8-b8b57fadc856', 'errors': []}, 'response': {'id': 3966, 'targetAccountId': '153595', 'dateSubmitted': '2023-03-10T21:46:47', 'source': {'type': 'GITHUB', 'url': 'https://github.com/alexyang528/fonecta-ya-dashboard'}, 'status': 'SUBMITTED'}}\n",
      "{'meta': {'uuid': '0186cd7d-c66d-582d-6ca7-e932cca135c4', 'errors': []}, 'response': {'id': 3966, 'targetAccountId': '153595', 'dateSubmitted': '2023-03-10T21:46:47', 'dateCompleted': '2023-03-10T21:46:48', 'source': {'type': 'GITHUB', 'url': 'https://github.com/alexyang528/fonecta-ya-dashboard'}, 'status': 'COMPLETE'}}\n",
      "submit request:  {'meta': {'uuid': '0186cd7d-c6b7-9dc1-78f8-8d4f5c2d99a9', 'errors': []}, 'response': {'id': 3967, 'targetAccountId': '150613', 'dateSubmitted': '2023-03-10T21:46:57', 'source': {'type': 'GITHUB', 'url': 'https://github.com/alexyang528/fonecta-ya-dashboard'}, 'status': 'SUBMITTED'}}\n",
      "{'meta': {'uuid': '0186cd7d-ee25-1ade-c3ea-92459744157c', 'errors': []}, 'response': {'id': 3967, 'targetAccountId': '150613', 'dateSubmitted': '2023-03-10T21:46:58', 'dateCompleted': '2023-03-10T21:46:59', 'source': {'type': 'GITHUB', 'url': 'https://github.com/alexyang528/fonecta-ya-dashboard'}, 'status': 'COMPLETE'}}\n",
      "[]\n"
     ]
    }
   ],
   "source": [
    "RESOURCE_APPLY_URL = f\"https://api.yext.com/v2/accounts/me/resourcesapplyrequests?api_key={API_KEY}&v={V}\"\n",
    "failed_list = []\n",
    "for account in range(len(account_id_list_head)):\n",
    "    ky_request_body = {\n",
    "    \"targetAccountId\":f\"{account_id_list_head[account]}\",\n",
    "    \"source\":{\n",
    "    \"type\":\"GitHub\",\n",
    "    \"url\":\"https://github.com/cxi2319/fonecta-ky-dashboard\"\n",
    "        }    \n",
    "    }\n",
    "\n",
    "    # ya_request_body = {\n",
    "    # \"targetAccountId\":\"530567\",\n",
    "    # \"source\":{\n",
    "    # \"type\":\"GitHub\",\n",
    "    # \"url\":\"https://github.com/alexyang528/fonecta-ya-dashboard\"\n",
    "    #     }    \n",
    "    # }\n",
    "\n",
    "    # hs_request_body = {\n",
    "    # \"targetAccountId\":\"530567\",\n",
    "    # \"source\":{\n",
    "    # \"type\":\"GitHub\",\n",
    "    # \"url\":\"https://github.com/alexyang528/fonecta-hs-dashboard\"\n",
    "    #     }    \n",
    "    # }\n",
    "    test = requests.post(RESOURCE_APPLY_URL, json=ky_request_body)\n",
    "    print(\"submit request: \", test.json())  \n",
    "    request_id =test.json()['response']['id']\n",
    "    time.sleep(10)\n",
    "    status_url = f\"https://api.yext.com/v2/accounts/me/resourcesapplyrequests/{request_id}?api_key={API_KEY}&v={V}\"\n",
    "    status = requests.get(status_url)\n",
    "    print(status.json())\n",
    "    if status.json()['response']['status'] =='FAILED':\n",
    "        failed_list.append(account_id_list_head[account])\n",
    "    # requests.post(RESOURCE_APPLY_URL, json=ya_request_body)\n",
    "    # requests.post(RESOURCE_APPLY_URL, json=hs_request_body)\n",
    "\n",
    "print(failed_list)"
   ]
  },
  {
   "cell_type": "code",
   "execution_count": 121,
   "metadata": {},
   "outputs": [],
   "source": [
    "request_id =test.json()['response']['id']"
   ]
  },
  {
   "cell_type": "code",
   "execution_count": 122,
   "metadata": {},
   "outputs": [
    {
     "name": "stdout",
     "output_type": "stream",
     "text": [
      "{'meta': {'uuid': '0186bf61-a588-bd1a-1073-500ff5496804', 'errors': []}, 'response': {'id': 3639, 'targetAccountId': '398690', 'dateSubmitted': '2023-03-08T03:52:55', 'dateCompleted': '2023-03-08T03:52:57', 'source': {'type': 'GITHUB', 'url': 'https://github.com/cxi2319/fonecta-ky-dashboard'}, 'status': 'COMPLETE'}}\n"
     ]
    }
   ],
   "source": [
    "\n",
    "status_url = f\"https://api.yext.com/v2/accounts/me/resourcesapplyrequests/{3639}?api_key={API_KEY}&v={V}\"\n",
    "status = requests.get(status_url)\n",
    "print(status.json())"
   ]
  },
  {
   "cell_type": "code",
   "execution_count": 124,
   "metadata": {},
   "outputs": [
    {
     "name": "stdout",
     "output_type": "stream",
     "text": [
      "COMPLETE\n"
     ]
    }
   ],
   "source": [
    "print(status.json()['response']['status'])\n"
   ]
  }
 ],
 "metadata": {
  "kernelspec": {
   "display_name": "Python 3",
   "language": "python",
   "name": "python3"
  },
  "language_info": {
   "codemirror_mode": {
    "name": "ipython",
    "version": 3
   },
   "file_extension": ".py",
   "mimetype": "text/x-python",
   "name": "python",
   "nbconvert_exporter": "python",
   "pygments_lexer": "ipython3",
   "version": "3.9.13"
  },
  "orig_nbformat": 4,
  "vscode": {
   "interpreter": {
    "hash": "aee8b7b246df8f9039afb4144a1f6fd8d2ca17a180786b69acc140d282b71a49"
   }
  }
 },
 "nbformat": 4,
 "nbformat_minor": 2
}
