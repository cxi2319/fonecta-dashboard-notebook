{
 "cells": [
  {
   "cell_type": "code",
   "execution_count": 1,
   "metadata": {},
   "outputs": [],
   "source": [
    "import requests\n",
    "import pandas as pd\n",
    "import time\n",
    "\n",
    "API_KEY = \"b2d6e0a848c3acb2df576557304c20ff\"\n",
    "V = \"20230223\"\n",
    "PARENT_ACCOUNT_ID = \"8181751292082973749\"\n",
    "\n",
    "account_list_url = f\"https://api.yext.com/v2/accounts?api_key={API_KEY}&v={V}&limit=1000&offset=1\"\n",
    "RESOURCE_APPLY_URL = f\"https://api.yext.com/v2/accounts/me/resourcesapplyrequests?api_key={API_KEY}&v={V}\"\n",
    "\n",
    "# response = requests.get(account_list_url)\n",
    "\n",
    "# account_json = response.json()\n",
    "\n",
    "# json_response = account_json[\"response\"][\"accounts\"]\n",
    "\n",
    "\n"
   ]
  },
  {
   "cell_type": "code",
   "execution_count": 2,
   "metadata": {},
   "outputs": [],
   "source": [
    "account_df = pd.read_csv('/Users/cxi/Documents/fonecta_active_customers.csv')\n",
    "\n",
    "# print(len(account_df))\n",
    "# print(account_id_list)\n"
   ]
  },
  {
   "cell_type": "code",
   "execution_count": null,
   "metadata": {},
   "outputs": [],
   "source": [
    "df_knowledge_engine_pro = account_df[account_df[\"Sijaintipalvelut\"].str.contains(\"Partner: Knowledge Engine Professional\")]\n",
    "\n",
    "print(df_knowledge_engine_pro)"
   ]
  },
  {
   "cell_type": "code",
   "execution_count": null,
   "metadata": {},
   "outputs": [],
   "source": [
    "# account_id_list = df_knowledge_engine_pro.Kumppaniasiakkaan_tunnus.values.tolist()\n",
    "# account_id_list_head = account_id_list[70:100]\n",
    "# print(account_id_list_head)\n",
    "\n",
    "account_id_list_head = [125490, 152102, 108508, 140025, 3490818, 134570, 167573, 172112, 2517827, 3756166, 3105990, 2768597, 152761, 102988, 2204246, 176469, 142886, 1610095, 161944, 381821, 3064587, 543131, 148954, 201931, 183849, 192784, 153431, 133791, 1933602, 214380, 202229, 171713, 215215, 168016, 463700, 3550825, 503733, 970803, 138984, 152482, 2761588, 129833, 2770525, 525763, 176177, 162516, 3601003, 177629, 834525, 175717, 456288, 2042807, 187988, 188194, 509816, 153595, 150613]\n",
    "\n",
    "failed_list = []\n",
    "print(len(account_id_list_head))\n"
   ]
  },
  {
   "cell_type": "code",
   "execution_count": null,
   "metadata": {},
   "outputs": [],
   "source": [
    "RESOURCE_APPLY_URL = f\"https://api.yext.com/v2/accounts/me/resourcesapplyrequests?api_key={API_KEY}&v={V}\"\n",
    "failed_list = []\n",
    "for account in range(len(account_id_list_head)):\n",
    "    ky_request_body = {\n",
    "    \"targetAccountId\":f\"{account_id_list_head[account]}\",\n",
    "    \"source\":{\n",
    "    \"type\":\"GitHub\",\n",
    "    \"url\":\"https://github.com/cxi2319/fonecta-ky-dashboard\"\n",
    "        }    \n",
    "    }\n",
    "\n",
    "    # ya_request_body = {\n",
    "    # \"targetAccountId\":\"530567\",\n",
    "    # \"source\":{\n",
    "    # \"type\":\"GitHub\",\n",
    "    # \"url\":\"https://github.com/alexyang528/fonecta-ya-dashboard\"\n",
    "    #     }    \n",
    "    # }\n",
    "\n",
    "    # hs_request_body = {\n",
    "    # \"targetAccountId\":\"530567\",\n",
    "    # \"source\":{\n",
    "    # \"type\":\"GitHub\",\n",
    "    # \"url\":\"https://github.com/alexyang528/fonecta-hs-dashboard\"\n",
    "    #     }    \n",
    "    # }\n",
    "    test = requests.post(RESOURCE_APPLY_URL, json=ky_request_body)\n",
    "    print(\"submit request: \", test.json())  \n",
    "    request_id =test.json()['response']['id']\n",
    "    time.sleep(10)\n",
    "    status_url = f\"https://api.yext.com/v2/accounts/me/resourcesapplyrequests/{request_id}?api_key={API_KEY}&v={V}\"\n",
    "    status = requests.get(status_url)\n",
    "    print(status.json())\n",
    "    if status.json()['response']['status'] =='FAILED':\n",
    "        failed_list.append(account_id_list_head[account])\n",
    "    # requests.post(RESOURCE_APPLY_URL, json=ya_request_body)\n",
    "    # requests.post(RESOURCE_APPLY_URL, json=hs_request_body)\n",
    "\n",
    "print(failed_list)"
   ]
  },
  {
   "cell_type": "code",
   "execution_count": 121,
   "metadata": {},
   "outputs": [],
   "source": [
    "request_id =test.json()['response']['id']"
   ]
  },
  {
   "cell_type": "code",
   "execution_count": null,
   "metadata": {},
   "outputs": [],
   "source": [
    "\n",
    "status_url = f\"https://api.yext.com/v2/accounts/me/resourcesapplyrequests/{3639}?api_key={API_KEY}&v={V}\"\n",
    "status = requests.get(status_url)\n",
    "print(status.json())"
   ]
  },
  {
   "cell_type": "code",
   "execution_count": null,
   "metadata": {},
   "outputs": [],
   "source": [
    "print(status.json()['response']['status'])\n"
   ]
  }
 ],
 "metadata": {
  "kernelspec": {
   "display_name": "Python 3",
   "language": "python",
   "name": "python3"
  },
  "language_info": {
   "codemirror_mode": {
    "name": "ipython",
    "version": 3
   },
   "file_extension": ".py",
   "mimetype": "text/x-python",
   "name": "python",
   "nbconvert_exporter": "python",
   "pygments_lexer": "ipython3",
   "version": "3.9.13"
  },
  "orig_nbformat": 4,
  "vscode": {
   "interpreter": {
    "hash": "aee8b7b246df8f9039afb4144a1f6fd8d2ca17a180786b69acc140d282b71a49"
   }
  }
 },
 "nbformat": 4,
 "nbformat_minor": 2
}
